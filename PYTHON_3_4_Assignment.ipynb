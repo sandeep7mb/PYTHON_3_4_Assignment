{
 "cells": [
  {
   "cell_type": "code",
   "execution_count": null,
   "metadata": {},
   "outputs": [],
   "source": [
    "\n",
    "Task 1 1.1 ==> Write a Python program which works exactly same as reduce() function in Python"
   ]
  },
  {
   "cell_type": "code",
   "execution_count": null,
   "metadata": {},
   "outputs": [],
   "source": [
    "def myreduce(functionName, tempArray):\n",
    "    t = tempArray.pop()\n",
    "    \n",
    "    for k in tempArray:        \n",
    "        t = functionName(t,k)\n",
    "    return t\n",
    "\n",
    "def addition(x,y):\n",
    "    return x+y\n",
    "\n",
    "def subtraction(x,y):\n",
    "    return x-y\n",
    "\n",
    "print(myreduce(addition, [3,6,8,8]))\n",
    "\n",
    "print(myreduce(subtraction, [3,6,8,8]))"
   ]
  },
  {
   "cell_type": "code",
   "execution_count": null,
   "metadata": {},
   "outputs": [],
   "source": [
    "\n",
    "Task 1 1.2 ==> Write a Python program which works exactly same as filter() function in Python"
   ]
  },
  {
   "cell_type": "code",
   "execution_count": null,
   "metadata": {},
   "outputs": [],
   "source": [
    "def myfilter(functionName, tempArray):\n",
    "    t = list()\n",
    "    \n",
    "    for k in tempArray:\n",
    "        if(functionName(k)):\n",
    "            t.append(k)\n",
    "    return t\n",
    "    \n",
    "def positiveFunction(x):\n",
    "    return x > 0\n",
    "\n",
    "def oddFunction(x):    \n",
    "    return x%2 != 0\n",
    "\n",
    "print(myfilter(positiveFunction,[2,-1,5,-7,9]))\n",
    "\n",
    "print(myfilter(oddFunction,[2,-1,5,-7,9]))"
   ]
  },
  {
   "cell_type": "code",
   "execution_count": null,
   "metadata": {},
   "outputs": [],
   "source": [
    "Task 1 2 ==> Implement List comprehensions to produce the following lists"
   ]
  },
  {
   "cell_type": "code",
   "execution_count": null,
   "metadata": {},
   "outputs": [],
   "source": [
    "tempVar1 = 'ACADGILD'\n",
    "tempVar2 = 'xyz'\n",
    "\n",
    "# first output\n",
    "print('*'*30 + 'first output' + '*'*30)\n",
    "temp = [i for i in tempVar1] \n",
    "print(temp)\n",
    "\n",
    "print('*'*30 + 'second output' + '*'*30)\n",
    "temp = [i*k for i in tempVar2 for k in range(1,5)]\n",
    "print(temp)\n",
    "\n",
    "print('*'*30 + 'third output' + '*'*30)\n",
    "temp = [i*k for k in range(1,5) for i in tempVar2]\n",
    "print(temp)\n",
    "\n",
    "print('*'*30 + 'Fourth output' + '*'*30)\n",
    "temp = [[i+k] for k in range(1,4) for i in range(1,4)]\n",
    "print(temp)\n",
    "\n",
    "print('*'*30 + 'Fifth output' + '*'*30)\n",
    "temp = [[i+k for k in range(1,5)] for i in range(1,5)]\n",
    "print(temp)\n",
    "\n",
    "print('*'*30 + 'Sixth output' + '*'*30)\n",
    "temp = [(i,k) for k in range(1,4) for i in range(1,4)]\n",
    "\n",
    "print(temp)"
   ]
  },
  {
   "cell_type": "code",
   "execution_count": null,
   "metadata": {},
   "outputs": [],
   "source": [
    "Task 1 3 ==> Implement a function longestword() that takes a list of words and returns the longest word"
   ]
  },
  {
   "cell_type": "code",
   "execution_count": null,
   "metadata": {},
   "outputs": [],
   "source": [
    "import functools\n",
    "test = 'thig is gaurav testingof from acadgild'\n",
    "\n",
    "functools.reduce(lambda x,y: x if len(x) > len(y) else y, test.split(' '))"
   ]
  },
  {
   "cell_type": "code",
   "execution_count": null,
   "metadata": {},
   "outputs": [],
   "source": [
    "Task 2 1.1 ==> write a python program to find a area of triangle using below formula: area = (s*(s-a)*(s-b)*(s-c))**0.5"
   ]
  },
  {
   "cell_type": "code",
   "execution_count": null,
   "metadata": {},
   "outputs": [],
   "source": [
    "class Area():\n",
    "    def getAreaofTriangle(self, a, b, c):\n",
    "        s = a + b + c\n",
    "        return (s*(s-a)*(s-b)*(s-c)**0.5)\n",
    "    \n",
    "class Triangle(Area):\n",
    "    def __init__(self, a, b, c):\n",
    "        self.a = a\n",
    "        self.b = b\n",
    "        self.c = c\n",
    "    \n",
    "    def getAreaofTriangle(self):\n",
    "        return Area.getAreaofTriangle(self, self.a, self.b, self.c)\n",
    "    \n",
    "    def __str__(self):\n",
    "        return \"Sides of the triangle are here: {} {} {}\".format(self.a, self.b, self.c)\n",
    "    \n",
    "#Class declaration\n",
    "temp = Triangle(5,3,6)\n",
    "\n",
    "#area of triangle\n",
    "print('Area of triangle = {} sq'.format(temp.getAreaofTriangle()))"
   ]
  },
  {
   "cell_type": "code",
   "execution_count": null,
   "metadata": {},
   "outputs": [],
   "source": [
    "Task 2 1.2 ==> write a function filter_long_words() that takes a list of words and an integer n and returns the list of words that are longer than n"
   ]
  },
  {
   "cell_type": "code",
   "execution_count": null,
   "metadata": {},
   "outputs": [],
   "source": [
    "def filter_long_words(tempArray, n):\n",
    "    return filter(lambda x: len(x) > n, tempArray)\n",
    "\n",
    "temp = filter_long_words('This is Gaurav from Acadgild'.split(' '), 5)\n",
    "\n",
    "for i in temp:\n",
    "    print(i)"
   ]
  },
  {
   "cell_type": "code",
   "execution_count": null,
   "metadata": {},
   "outputs": [],
   "source": [
    "\n",
    "Task 2 2.1 ==> Write a python program using function concept that maps list of words into list of integers representing the lengths of the corresponding words"
   ]
  },
  {
   "cell_type": "code",
   "execution_count": null,
   "metadata": {},
   "outputs": [],
   "source": [
    "def sizeOfList(tempArray):\n",
    "    return [len(i) for i in tempArray]\n",
    "\n",
    "print('Size of the list array having string in each element is here: ')\n",
    "sizeOfList('This is Gaurav from Acadgild'.split(' '))"
   ]
  },
  {
   "cell_type": "code",
   "execution_count": null,
   "metadata": {},
   "outputs": [],
   "source": [
    "Task 2 2.2 ==> Write a python function which takes a character (i.e. a string of length 1) and returns True if it is a vowel, False otherwise"
   ]
  },
  {
   "cell_type": "code",
   "execution_count": null,
   "metadata": {},
   "outputs": [],
   "source": [
    "def isVowel(t):\n",
    "    temp = 'aeiou'\n",
    "    return temp.find(str(t).lower()) > -1\n",
    "\n",
    "print('Is vowel test for both True and False: ')\n",
    "print('Is A vowel? {}'.format(str(isVowel('a'))))\n",
    "print('Is G vowel? {}'.format(str(isVowel('g'))))"
   ]
  }
 ],
 "metadata": {
  "kernelspec": {
   "display_name": "Python 3",
   "language": "python",
   "name": "python3"
  },
  "language_info": {
   "codemirror_mode": {
    "name": "ipython",
    "version": 3
   },
   "file_extension": ".py",
   "mimetype": "text/x-python",
   "name": "python",
   "nbconvert_exporter": "python",
   "pygments_lexer": "ipython3",
   "version": "3.7.1"
  }
 },
 "nbformat": 4,
 "nbformat_minor": 2
}
